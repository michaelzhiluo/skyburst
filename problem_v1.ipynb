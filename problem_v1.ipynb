{
 "cells": [
  {
   "cell_type": "code",
   "execution_count": 2,
   "metadata": {},
   "outputs": [],
   "source": [
    "import csv\n",
    "import datetime\n",
    "import json\n",
    "import matplotlib.pyplot as plt\n",
    "import numpy as np\n",
    "import os"
   ]
  },
  {
   "cell_type": "code",
   "execution_count": 3,
   "metadata": {},
   "outputs": [],
   "source": [
    "LOGDIR = '../philly-traces/trace-data'\n",
    "DATE_FORMAT_STR = '%Y-%m-%d %H:%M:%S'\n",
    "MINUTES_PER_DAY = (24 * 60)\n",
    "MICROSECONDS_PER_MINUTE = (60 * 1000)"
   ]
  },
  {
   "cell_type": "code",
   "execution_count": 4,
   "metadata": {},
   "outputs": [],
   "source": [
    "def parse_date(date_str):\n",
    "    \"\"\"Parses a date string and returns a datetime object if possible.\n",
    "    \n",
    "       Args:\n",
    "           date_str: A string representing a date.\n",
    "        \n",
    "       Returns:\n",
    "           A datetime object if the input string could be successfully\n",
    "           parsed, None otherwise.\n",
    "    \"\"\"\n",
    "    if date_str is None or date_str == '' or date_str == 'None':\n",
    "        return None\n",
    "    return datetime.datetime.strptime(date_str, DATE_FORMAT_STR)\n",
    "\n",
    "def timedelta_to_minutes(timedelta):\n",
    "    \"\"\"Converts a datetime timedelta object to minutes.\n",
    "    \n",
    "       Args:\n",
    "           timedelta: The timedelta to convert.\n",
    "           \n",
    "       Returns:\n",
    "           The number of minutes captured in the timedelta.\n",
    "    \"\"\"\n",
    "    minutes = 0.0\n",
    "    minutes += timedelta.days * MINUTES_PER_DAY\n",
    "    minutes += timedelta.seconds / 60.0\n",
    "    minutes += timedelta.microseconds / MICROSECONDS_PER_MINUTE\n",
    "    return minutes\n",
    "\n",
    "def round_to_nearest_minute(t):\n",
    "    \"\"\"Rounds a datetime object down to the nearest minute.\n",
    "    \n",
    "       Args:\n",
    "           t: A datetime object.\n",
    "           \n",
    "        Returns:\n",
    "            A new rounded down datetime object.\n",
    "    \"\"\"\n",
    "    return t - datetime.timedelta(seconds=t.second, microseconds=t.microsecond)\n",
    "\n",
    "def add_minute(t):\n",
    "    \"\"\"Adds a single minute to a datetime object.\n",
    "    \n",
    "       Args:\n",
    "           t: A datetime object.\n",
    "           \n",
    "        Returns:\n",
    "            A new datetime object with an additional minute.\n",
    "    \"\"\"\n",
    "    return t + datetime.timedelta(seconds=60)"
   ]
  },
  {
   "cell_type": "code",
   "execution_count": 5,
   "metadata": {},
   "outputs": [],
   "source": [
    "def get_cdf(data):\n",
    "    \"\"\"Returns the CDF of the given data.\n",
    "    \n",
    "       Args:\n",
    "           data: A list of numerical values.\n",
    "           \n",
    "       Returns:\n",
    "           An pair of lists (x, y) for plotting the CDF.\n",
    "    \"\"\"\n",
    "    sorted_data = sorted(data)\n",
    "    p = 100. * np.arange(len(sorted_data)) / (len(sorted_data) - 1)\n",
    "    return sorted_data, p"
   ]
  },
  {
   "cell_type": "code",
   "execution_count": 6,
   "metadata": {},
   "outputs": [],
   "source": [
    "class JobTrace:\n",
    "    \"\"\"Encapsulates a job.\"\"\"\n",
    "    \n",
    "    def __init__(self, status, jobid, attempts, submitted_time, user):\n",
    "        \"\"\"Records job parameters and computes key metrics.\n",
    "        \n",
    "           Stores the passed in arguments as well as the number of GPUs\n",
    "           requested by the job. In addition, computes the queueing delay\n",
    "           as defined as the delta between the submission time and the start\n",
    "           time of the first attempt. Finally, computes run time as defined\n",
    "           as the delta between the initial attempt's start time and the last\n",
    "           attempt's finish time.\n",
    "           \n",
    "           NOTE: Some jobs do not have any recorded attempts, and some attempts\n",
    "           have missing start and/or end times. A job's latest attempt having no\n",
    "           end time indicates that the job was still running when the log data\n",
    "           was collected.\n",
    "   \n",
    "           Args:\n",
    "               status: One of 'Pass', 'Killed', 'Failed'.\n",
    "               jobid: The hash of the job id.\n",
    "               attempts: A list of dicts, where each dict contains the following keys:\n",
    "                   'start_time': The start time of the attempt.\n",
    "                   'end_time': The end time of the attempt.\n",
    "                   'detail': A list of nested dicts where each dict contains \n",
    "                             the following keys:\n",
    "                        'ip': The server id.\n",
    "                        'gpus': A list of the GPU ids allotted for this attempt.\n",
    "                submitted_time: The time the job was submitted to the queue.\n",
    "                user: The user's id.            \n",
    "        \"\"\"\n",
    "        self._status = status\n",
    "        self._jobid = jobid\n",
    "        for attempt in attempts:\n",
    "            attempt['start_time'] = parse_date(attempt['start_time'])\n",
    "            attempt['end_time'] = parse_date(attempt['end_time'])\n",
    "        self._attempts = attempts\n",
    "        self._submitted_time = parse_date(submitted_time)\n",
    "        self._user = user\n",
    "        \n",
    "        if len(self._attempts) == 0:\n",
    "            self._num_gpus = None\n",
    "            self._run_time = None\n",
    "            self._queueing_delay = None\n",
    "        else:\n",
    "            self._num_gpus = sum([len(detail['gpus']) for detail in self._attempts[0]['detail']])\n",
    "            if self._attempts[0]['start_time'] is None:\n",
    "                self._run_time = None\n",
    "                self._queueing_delay = None\n",
    "            else:\n",
    "                if self._attempts[-1]['end_time'] is None:\n",
    "                    self._run_time = None\n",
    "                else:\n",
    "                    self._run_time = \\\n",
    "                        timedelta_to_minutes(self._attempts[-1]['end_time'] -\n",
    "                                             self._attempts[0]['start_time'])\n",
    "                self._queueing_delay = \\\n",
    "                    timedelta_to_minutes(self._attempts[0]['start_time'] -\n",
    "                                         self._submitted_time)\n",
    "    \n",
    "    def __repr__(self):\n",
    "        return (f'Job(job_id={self._jobid},\\n'\n",
    "                f'user={self._user},\\n'\n",
    "                f'status={self._status},\\n'\n",
    "                f'num_gpus = {self._num_gpus},\\n'\n",
    "                f'submitted_time = {self._submitted_time},\\n'\n",
    "                f'run_time={self._run_time}\\n'\n",
    "                f'attempts={self._attempts})')\n",
    "    \n",
    "    @property\n",
    "    def status(self):\n",
    "        return self._status\n",
    "    \n",
    "    @property\n",
    "    def jobid(self):\n",
    "        return self._jobid\n",
    "    \n",
    "    @property\n",
    "    def attempts(self):\n",
    "        return self._attempts\n",
    "    \n",
    "    @property\n",
    "    def submitted_time(self):\n",
    "        return self._submitted_time\n",
    "    \n",
    "    @property\n",
    "    def user(self):\n",
    "        return self._user\n",
    "    \n",
    "    @property\n",
    "    def num_gpus(self):\n",
    "        return self._num_gpus\n",
    "    \n",
    "    @property\n",
    "    def queueing_delay(self):\n",
    "        return self._queueing_delay\n",
    "    \n",
    "    @property\n",
    "    def run_time(self):\n",
    "        return self._run_time"
   ]
  },
  {
   "cell_type": "code",
   "execution_count": 7,
   "metadata": {},
   "outputs": [],
   "source": [
    "def get_bucket_from_num_gpus(num_gpus):\n",
    "    \"\"\"Maps GPU count to a bucket for plotting purposes.\"\"\"\n",
    "    if num_gpus is None:\n",
    "        return None\n",
    "    if num_gpus == 1:\n",
    "        return 0\n",
    "    elif num_gpus >= 2 and num_gpus <= 4:\n",
    "        return 1\n",
    "    elif num_gpus >= 5 and num_gpus <= 8:\n",
    "        return 2\n",
    "    elif num_gpus > 8:\n",
    "        return 3\n",
    "    else:\n",
    "        return None\n",
    "    \n",
    "def get_plot_config_from_bucket(bucket):\n",
    "    \"\"\"Returns plotting configuration information.\"\"\"\n",
    "    if bucket == 0:\n",
    "        return ('1', 'green', '-')\n",
    "    elif bucket == 1:\n",
    "        return ('2-4', 'blue', '-.')\n",
    "    elif bucket == 2:\n",
    "        return ('5-8', 'red', '--')\n",
    "    elif bucket == 3:\n",
    "        return ('>8', 'purple', ':')"
   ]
  },
  {
   "cell_type": "code",
   "execution_count": 8,
   "metadata": {},
   "outputs": [],
   "source": [
    "cluster_job_log_path = os.path.join(LOGDIR, 'cluster_job_log')\n",
    "with open(cluster_job_log_path, 'r') as f:\n",
    "    cluster_job_log = json.load(f)\n",
    "jobs = [JobTrace(status=job['status'], jobid=job['jobid'], attempts=job['attempts'], submitted_time=job['submitted_time'], user=job['user']) for job in cluster_job_log]\n",
    "jobs = sorted(jobs, key=lambda t: t._submitted_time)"
   ]
  },
  {
   "cell_type": "code",
   "execution_count": 9,
   "metadata": {},
   "outputs": [
    {
     "data": {
      "image/png": "[encoded data removed]",
      "text/plain": [
       "<Figure size 432x288 with 1 Axes>"
      ]
     },
     "metadata": {
      "needs_background": "light"
     },
     "output_type": "display_data"
    }
   ],
   "source": [
    "import pandas as pd\n",
    "dates = [j._submitted_time.date() for j in jobs]\n",
    "dates_df = pd.DataFrame (dates, columns = ['dates'])\n",
    "dates_df[\"dates\"] = dates_df[\"dates\"].astype(\"datetime64\")\n",
    "dates_df.groupby([dates_df[\"dates\"].dt.month, dates_df[\"dates\"].dt.day]).count().plot(kind=\"bar\")\n",
    "plt.tick_params(\n",
    "    axis='x',          # changes apply to the x-axis\n",
    "    which='both',      # both major and minor ticks are affected\n",
    "    bottom=False,      # ticks along the bottom edge are off\n",
    "    top=False,         # ticks along the top edge are off\n",
    "    labelbottom=False) # labels along the bottom edge are off\n",
    "plt.show()"
   ]
  },
  {
   "cell_type": "code",
   "execution_count": 10,
   "metadata": {},
   "outputs": [
    {
     "name": "stdout",
     "output_type": "stream",
     "text": [
      "331\n"
     ]
    },
    {
     "data": {
      "text/plain": [
       "<AxesSubplot:xlabel='dates'>"
      ]
     },
     "execution_count": 10,
     "metadata": {},
     "output_type": "execute_result"
    },
    {
     "data": {
      "image/png": "[encoded data removed]",
      "text/plain": [
       "<Figure size 432x288 with 1 Axes>"
      ]
     },
     "metadata": {
      "needs_background": "light"
     },
     "output_type": "display_data"
    }
   ],
   "source": [
    "start_day = datetime.datetime(2017, 10, 7)\n",
    "day_jobs = [j for j in jobs if (j._submitted_time - start_day).days ==0 and j._run_time is not None and j.status == 'Pass']\n",
    "print(len(day_jobs))\n",
    "\n",
    "dates = [j._submitted_time for j in day_jobs]\n",
    "dates_df = pd.DataFrame (dates, columns = ['dates'])\n",
    "dates_df[\"dates\"] = dates_df[\"dates\"].astype(\"datetime64\")\n",
    "dates_df.groupby([dates_df[\"dates\"].dt.hour]).count().plot(kind=\"bar\")\n"
   ]
  },
  {
   "cell_type": "code",
   "execution_count": 11,
   "metadata": {},
   "outputs": [
    {
     "name": "stderr",
     "output_type": "stream",
     "text": [
      "No handles with labels found to put in legend.\n"
     ]
    },
    {
     "data": {
      "image/png": "[encoded data removed]",
      "text/plain": [
       "<Figure size 432x288 with 1 Axes>"
      ]
     },
     "metadata": {
      "needs_background": "light"
     },
     "output_type": "display_data"
    }
   ],
   "source": [
    "# Plotting Job CDF for Phillly Trace\n",
    "dayrun_times = []\n",
    "for j in day_jobs:\n",
    "    if j._run_time is not None and j.status=='Pass':\n",
    "        dayrun_times.append(j._run_time)\n",
    "dayrun_times.sort()\n",
    "#print(run_times)\n",
    "\n",
    "# buckets = sorted([bucket for bucket in run_times])\n",
    "# for bucket in buckets:\n",
    "#     num_gpus, color, linestyle = get_plot_config_from_bucket(bucket)\n",
    "x, y = get_cdf(dayrun_times)\n",
    "plt.plot(x, y)\n",
    "plt.legend(loc='lower right')\n",
    "plt.xscale('log')\n",
    "plt.xlim(10 ** -1, 8* 10 ** 4)\n",
    "plt.ylim(0, 100)\n",
    "plt.xlabel('Time (min)')\n",
    "plt.ylabel('CDF')\n",
    "plt.grid(alpha=.3, linestyle='--')\n",
    "plt.show()"
   ]
  },
  {
   "cell_type": "code",
   "execution_count": 28,
   "metadata": {},
   "outputs": [
    {
     "name": "stdout",
     "output_type": "stream",
     "text": [
      "100\n"
     ]
    }
   ],
   "source": [
    "# Preprocessing\n",
    "og_day_jobs = day_jobs\n",
    "day_jobs = og_day_jobs[0:100]\n",
    "print(len(day_jobs))\n",
    "deadline_multiplier = 1.05\n",
    "# Let's do everything in hours (for normalization sake)\n",
    "starting_time = day_jobs[0]._submitted_time\n",
    "\n",
    "dayjob_arrival_times = [(j._submitted_time- starting_time).seconds/3600.0 for j in day_jobs]\n",
    "\n",
    "\n",
    "dayrun_times = []\n",
    "for j in day_jobs:\n",
    "    if j._run_time is not None and j.status=='Pass':\n",
    "        dayrun_times.append(j._run_time)\n",
    "dayjob_run_times = [j/60.0 for j in dayrun_times]\n",
    "# Here jobs can only wait for at max 5% of its runtime\n",
    "dayjob_dead_times = [dayjob_arrival_times[i] + deadline_multiplier * dayjob_run_times[i] for i, _ in enumerate(dayjob_run_times)]\n",
    "\n",
    "num_nodes = 20"
   ]
  },
  {
   "cell_type": "code",
   "execution_count": 29,
   "metadata": {},
   "outputs": [
    {
     "name": "stdout",
     "output_type": "stream",
     "text": [
      "124.30499999999999\n",
      "46.60722222222223\n"
     ]
    }
   ],
   "source": [
    "def fifo(arrival_times, run_times, dead_times, num_nodes):\n",
    "    cloud_cost = 0.0\n",
    "    # Indicates when occupying job on the onprem node will finish.\n",
    "    node_open = [-1] * num_nodes\n",
    "    for idx, a_time in enumerate(arrival_times):\n",
    "        #print(node_open)\n",
    "        # Remove from nodes if the current time > node_open\n",
    "        for n_idx, n in enumerate(node_open):\n",
    "            if n != -1 and a_time > n:\n",
    "                # This means that job already finished\n",
    "                node_open[n_idx]=-1\n",
    "        found_node = False\n",
    "        for n_idx, n in enumerate(node_open):\n",
    "            if n==-1:\n",
    "                node_open[n_idx] = a_time + run_times[idx]\n",
    "                found_node = True\n",
    "                break\n",
    "\n",
    "        if found_node == False:\n",
    "            cloud_cost += run_times[idx]\n",
    "    return cloud_cost\n",
    "\n",
    "def delayed_sched(arrival_times, run_times, dead_times, num_nodes):\n",
    "    cloud_cost = 0.0\n",
    "    # Indicates when occupying job on the onprem node will finish.\n",
    "    node_open = [-1] * num_nodes\n",
    "    list_times = list(enumerate(arrival_times.copy()))\n",
    "    queue_times = []\n",
    "    a_time = 0\n",
    "    while queue_times or list_times:\n",
    "#         print(node_open)\n",
    "#         print(queue_times)\n",
    "#         print()\n",
    "        from_queue = False\n",
    "        if queue_times:\n",
    "            if list_times and list_times[0][1] < queue_times[0][1]:\n",
    "                idx, a_time = list_times.pop(0)\n",
    "            else:\n",
    "                idx, a_time = queue_times.pop(0)\n",
    "                from_queue = True\n",
    "        else:\n",
    "            idx, a_time = list_times.pop(0)\n",
    "#         if not from_queue:\n",
    "#             print(f\"{a_time} + {run_times[idx]} -> ({dead_times[idx]})\")\n",
    "#         else:\n",
    "#             print(f\"{arrival_times[idx]} + {run_times[idx]} -> ({dead_times[idx]})\")\n",
    "        #print(node_open)\n",
    "        # Remove from nodes if the current time > node_open\n",
    "        for n_idx, n in enumerate(node_open):\n",
    "            if n != -1 and a_time > n:\n",
    "                # This means that job already finished\n",
    "                node_open[n_idx]=-1\n",
    "        \n",
    "        \n",
    "        found_node = False\n",
    "        for n_idx, n in enumerate(node_open):\n",
    "            if n==-1:\n",
    "                node_open[n_idx] = a_time + run_times[idx]\n",
    "                found_node = True\n",
    "                break\n",
    "        \n",
    "        if found_node == False:\n",
    "            if not from_queue:\n",
    "                queue_times.append((idx, arrival_times[idx] + (dead_times[idx] - run_times[idx])))\n",
    "            else:\n",
    "                cloud_cost += run_times[idx]\n",
    "        \n",
    "        queue_times.sort(key = lambda a: a[1]) \n",
    "    return cloud_cost\n",
    "\n",
    "print(fifo(dayjob_arrival_times, dayjob_run_times, dayjob_dead_times, num_nodes))\n",
    "\n",
    "print(delayed_sched(dayjob_arrival_times, dayjob_run_times, dayjob_dead_times, num_nodes))"
   ]
  },
  {
   "cell_type": "code",
   "execution_count": 30,
   "metadata": {},
   "outputs": [
    {
     "name": "stdout",
     "output_type": "stream",
     "text": [
      "===============================================================================\n",
      "                                     CVXPY                                     \n",
      "                                     v1.3.0                                    \n",
      "===============================================================================\n",
      "(CVXPY) Jan 19 03:25:27 AM: Your problem has 12100 variables, 9903 constraints, and 0 parameters.\n",
      "(CVXPY) Jan 19 03:25:30 AM: It is compliant with the following grammars: DCP, DQCP\n",
      "(CVXPY) Jan 19 03:25:30 AM: (If you need to solve this problem multiple times, but with different data, consider using parameters.)\n",
      "(CVXPY) Jan 19 03:25:30 AM: CVXPY will first compile your problem; then, it will invoke a numerical solver to obtain a solution.\n",
      "-------------------------------------------------------------------------------\n",
      "                                  Compilation                                  \n",
      "-------------------------------------------------------------------------------\n",
      "(CVXPY) Jan 19 03:25:32 AM: Compiling problem (target solver=SCIP).\n",
      "(CVXPY) Jan 19 03:25:32 AM: Reduction chain: FlipObjective -> Dcp2Cone -> CvxAttr2Constr -> ConeMatrixStuffing -> SCIP\n",
      "(CVXPY) Jan 19 03:25:32 AM: Applying reduction FlipObjective\n",
      "(CVXPY) Jan 19 03:25:33 AM: Applying reduction Dcp2Cone\n",
      "(CVXPY) Jan 19 03:25:36 AM: Applying reduction CvxAttr2Constr\n",
      "(CVXPY) Jan 19 03:25:37 AM: Applying reduction ConeMatrixStuffing\n",
      "(CVXPY) Jan 19 03:27:11 AM: Applying reduction SCIP\n",
      "(CVXPY) Jan 19 03:27:14 AM: Finished problem compilation (took 1.041e+02 seconds).\n",
      "-------------------------------------------------------------------------------\n",
      "                                Numerical solver                               \n",
      "-------------------------------------------------------------------------------\n",
      "(CVXPY) Jan 19 03:27:14 AM: Invoking solver SCIP  to obtain a solution.\n",
      "-------------------------------------------------------------------------------\n",
      "                                    Summary                                    \n",
      "-------------------------------------------------------------------------------\n",
      "(CVXPY) Jan 19 03:28:26 AM: Problem status: optimal\n",
      "(CVXPY) Jan 19 03:28:26 AM: Optimal value: 9.257e+02\n",
      "(CVXPY) Jan 19 03:28:26 AM: Compilation took 1.041e+02 seconds\n",
      "(CVXPY) Jan 19 03:28:26 AM: Solver (including time spent in interface) took 7.227e+01 seconds\n",
      "22.253888888888923\n"
     ]
    }
   ],
   "source": [
    "# Time for optimal MILP\n",
    "def milp_solver_v1(arrival_times, run_times, dead_times, num_nodes):\n",
    "    import cvxpy\n",
    "    import numpy as np\n",
    "    from multiprocessing import Pool\n",
    "    num_jobs = len(run_times)\n",
    "    \n",
    "    arrival_times = np.array(arrival_times)\n",
    "    run_times = np.array(run_times)\n",
    "    dead_times = np.array(dead_times)\n",
    "    \n",
    "    selection = cvxpy.Variable((num_nodes, num_jobs), boolean=True)\n",
    "    start_times = cvxpy.Variable((num_jobs, ))\n",
    "    job_precedence = cvxpy.Variable((num_jobs, num_jobs), boolean=True)\n",
    "    \n",
    "    constraints = []\n",
    "    \n",
    "    bin_constraint = cvxpy.sum(selection, axis=0) <= 1\n",
    "    constraints.append(bin_constraint)\n",
    "    \n",
    "    constraints.append(start_times >= arrival_times)\n",
    "    \n",
    "    constraints.append(start_times + run_times <= dead_times)\n",
    "    \n",
    "    for r in range(0, num_jobs):\n",
    "        for j in range(r+1, num_jobs):\n",
    "            constraints.append(start_times[j] - (start_times[r] + run_times[r]) + 1000000 * (2 + job_precedence[j][r] - selection[:,j] - selection[:,r]) >=0)\n",
    "            constraints.append(start_times[r] - (start_times[j] + run_times[j]) + 1000000 * (3 - job_precedence[j][r] - selection[:,j] - selection[:,r]) >=0)\n",
    "\n",
    "    # Our total utility is the sum of the item utilities\n",
    "    total_utility = cvxpy.sum(selection@np.array(run_times).reshape((num_jobs, 1)))\n",
    "\n",
    "    # We tell cvxpy that we want to maximize total utility \n",
    "    # subject to weight_constraint. All constraints in \n",
    "    # cvxpy must be passed as a list\n",
    "    milp_problem = cvxpy.Problem(cvxpy.Maximize(total_utility), constraints)\n",
    "    \n",
    "    opts = {'limits/time' : 600} #{'maxiters' : 5000}\n",
    "    milp_problem.solve(solver=cvxpy.SCIP, verbose=True, scip_params = opts)\n",
    "    \n",
    "    solution = selection.value\n",
    "    total_weight = solution @ np.array(run_times).reshape((num_jobs, 1))\n",
    "    print(np.sum(run_times) - np.sum(total_weight))\n",
    "    return milp_problem, (selection, start_times, job_precedence)\n",
    "asdf = milp_solver_v1(dayjob_arrival_times, dayjob_run_times, dayjob_dead_times, num_nodes)"
   ]
  },
  {
   "cell_type": "code",
   "execution_count": 35,
   "metadata": {},
   "outputs": [
    {
     "data": {
      "image/png": "[encoded data removed]",
      "text/plain": [
       "<Figure size 432x288 with 1 Axes>"
      ]
     },
     "metadata": {
      "needs_background": "light"
     },
     "output_type": "display_data"
    },
    {
     "data": {
      "image/png": "[encoded data removed]",
      "text/plain": [
       "<Figure size 432x288 with 1 Axes>"
      ]
     },
     "metadata": {
      "needs_background": "light"
     },
     "output_type": "display_data"
    }
   ],
   "source": [
    "# 1\n",
    "# 898.6872222222224\n",
    "# 898.6872222222224\n",
    "# 809.3183333333333\n",
    "\n",
    "# 2\n",
    "# 853.8433333333336\n",
    "# 853.8433333333338\n",
    "# 700.5619444444444\n",
    "\n",
    "# 4\n",
    "# 748.5313888888893\n",
    "# 775.5086111111115\n",
    "# 590.6227777777777\n",
    "\n",
    "# 8\n",
    "# 538.1697222222224\n",
    "# 565.1294444444446\n",
    "# 381.1455555555556\n",
    "\n",
    "# 16\n",
    "# 219.31416666666667\n",
    "# 170.6811111111111\n",
    "# 85.84388888888873\n",
    "\n",
    "# 20\n",
    "# 124.30499999999999\n",
    "# 46.60722222222223\n",
    "# 22.253888888888923\n",
    "\n",
    "results = {1:{'fifo':898.6872222222224, 'delayed':898.6872222222224, 'milp':809.3183333333333}, \n",
    "           2:{'fifo':853.8433333333336, 'delayed':853.8433333333338, 'milp':700.5619444444444},\n",
    "           4:{'fifo':748.5313888888893, 'delayed':775.5086111111115, 'milp':590.6227777777777},\n",
    "           8:{'fifo':538.1697222222224, 'delayed':565.1294444444446, 'milp':381.1455555555556},\n",
    "           16:{'fifo':219.31416666666667, 'delayed':170.6811111111111, 'milp':85.84388888888873},\n",
    "           20:{'fifo':124.30499999999999, 'delayed':46.60722222222223, 'milp':22.253888888888923}}\n",
    "\n",
    "x = [1,2,4,8,16,20]\n",
    "for alg in ['fifo', 'delayed', 'milp']:\n",
    "    y= []\n",
    "    for clus in x:\n",
    "        y.append(results[clus][alg])\n",
    "    plt.plot(x, y, label = f\"{alg}\")\n",
    "plt.xlabel('Nodes in Cluster')\n",
    "plt.ylabel('Cost')\n",
    "plt.legend()\n",
    "plt.title('Theoretical Hybrid Cost (10/7)')\n",
    "plt.show()\n",
    "\n",
    "\n",
    "x = [1,2,4,8,16,20]\n",
    "for alg in ['delayed', 'milp']:\n",
    "    y= []\n",
    "    for clus in x:\n",
    "        y.append(results[clus]['fifo']/results[clus][alg])\n",
    "    plt.plot(x, y, label = f\"{alg}\")\n",
    "plt.xlabel('Nodes in Cluster')\n",
    "plt.ylabel('Ratio')\n",
    "plt.legend()\n",
    "plt.title('Factor in Improvement over FIFO')\n",
    "plt.show()"
   ]
  },
  {
   "cell_type": "code",
   "execution_count": 45,
   "metadata": {},
   "outputs": [
    {
     "ename": "NameError",
     "evalue": "name 'day_job_run_times' is not defined",
     "output_type": "error",
     "traceback": [
      "\u001b[0;31m---------------------------------------------------------------------------\u001b[0m",
      "\u001b[0;31mNameError\u001b[0m                                 Traceback (most recent call last)",
      "\u001b[0;32m<ipython-input-45-0e68691b67d1>\u001b[0m in \u001b[0;36m<module>\u001b[0;34m\u001b[0m\n\u001b[0;32m----> 1\u001b[0;31m \u001b[0mget_solutions\u001b[0m\u001b[0;34m(\u001b[0m\u001b[0mproblem\u001b[0m\u001b[0;34m[\u001b[0m\u001b[0;36m0\u001b[0m\u001b[0;34m]\u001b[0m\u001b[0;34m,\u001b[0m \u001b[0mproblem\u001b[0m\u001b[0;34m[\u001b[0m\u001b[0;36m1\u001b[0m\u001b[0;34m]\u001b[0m\u001b[0;34m,\u001b[0m \u001b[0mdayjob_run_times\u001b[0m\u001b[0;34m,\u001b[0m \u001b[0mtimeout\u001b[0m\u001b[0;34m=\u001b[0m\u001b[0;36m60\u001b[0m\u001b[0;34m)\u001b[0m\u001b[0;34m\u001b[0m\u001b[0;34m\u001b[0m\u001b[0m\n\u001b[0m",
      "\u001b[0;32m<ipython-input-44-b97217a745ba>\u001b[0m in \u001b[0;36mget_solutions\u001b[0;34m(milp_problem, variables, runtimes, timeout)\u001b[0m\n\u001b[1;32m      1\u001b[0m \u001b[0;32mdef\u001b[0m \u001b[0mget_solutions\u001b[0m\u001b[0;34m(\u001b[0m\u001b[0mmilp_problem\u001b[0m\u001b[0;34m,\u001b[0m \u001b[0mvariables\u001b[0m\u001b[0;34m,\u001b[0m \u001b[0mruntimes\u001b[0m\u001b[0;34m,\u001b[0m \u001b[0mtimeout\u001b[0m\u001b[0;34m=\u001b[0m\u001b[0;36m100\u001b[0m\u001b[0;34m)\u001b[0m\u001b[0;34m:\u001b[0m\u001b[0;34m\u001b[0m\u001b[0;34m\u001b[0m\u001b[0m\n\u001b[0;32m----> 2\u001b[0;31m     \u001b[0mnum_jobs\u001b[0m \u001b[0;34m=\u001b[0m \u001b[0mlen\u001b[0m\u001b[0;34m(\u001b[0m\u001b[0mday_job_run_times\u001b[0m\u001b[0;34m)\u001b[0m\u001b[0;34m\u001b[0m\u001b[0;34m\u001b[0m\u001b[0m\n\u001b[0m\u001b[1;32m      3\u001b[0m     \u001b[0;31m# Solving the problem\u001b[0m\u001b[0;34m\u001b[0m\u001b[0;34m\u001b[0m\u001b[0;34m\u001b[0m\u001b[0m\n\u001b[1;32m      4\u001b[0m     \u001b[0mselection\u001b[0m\u001b[0;34m,\u001b[0m \u001b[0mstart_times\u001b[0m\u001b[0;34m,\u001b[0m \u001b[0mjob_precedence\u001b[0m \u001b[0;34m=\u001b[0m \u001b[0mvariables\u001b[0m\u001b[0;34m\u001b[0m\u001b[0;34m\u001b[0m\u001b[0m\n\u001b[1;32m      5\u001b[0m     \u001b[0mopts\u001b[0m \u001b[0;34m=\u001b[0m \u001b[0;34m{\u001b[0m\u001b[0;34m'limits/time'\u001b[0m \u001b[0;34m:\u001b[0m \u001b[0mtimeout\u001b[0m\u001b[0;34m}\u001b[0m \u001b[0;31m#{'maxiters' : 5000}\u001b[0m\u001b[0;34m\u001b[0m\u001b[0;34m\u001b[0m\u001b[0m\n",
      "\u001b[0;31mNameError\u001b[0m: name 'day_job_run_times' is not defined"
     ]
    }
   ],
   "source": [
    "get_solutions(problem[0], problem[1], dayjob_run_times, timeout=60)"
   ]
  },
  {
   "cell_type": "code",
   "execution_count": null,
   "metadata": {},
   "outputs": [],
   "source": []
  }
 ],
 "metadata": {
  "kernelspec": {
   "display_name": "Python 3",
   "language": "python",
   "name": "python3"
  },
  "language_info": {
   "codemirror_mode": {
    "name": "ipython",
    "version": 3
   },
   "file_extension": ".py",
   "mimetype": "text/x-python",
   "name": "python",
   "nbconvert_exporter": "python",
   "pygments_lexer": "ipython3",
   "version": "3.7.9"
  }
 },
 "nbformat": 4,
 "nbformat_minor": 4
}
